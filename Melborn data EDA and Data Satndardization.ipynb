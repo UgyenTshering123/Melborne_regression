{
 "cells": [
  {
   "cell_type": "code",
   "execution_count": null,
   "metadata": {
    "id": "HczWxP2x8cUZ",
    "tags": []
   },
   "outputs": [],
   "source": [
    "import pandas as pd"
   ]
  },
  {
   "cell_type": "code",
   "execution_count": null,
   "metadata": {
    "id": "LbUJ_O4Y8cUb",
    "tags": []
   },
   "outputs": [],
   "source": [
    "dataset = pd.read_csv('./Melbourne_housing_FULL.csv')"
   ]
  },
  {
   "cell_type": "code",
   "execution_count": null,
   "metadata": {
    "id": "UYTDELUY8cUb",
    "jupyter": {
     "source_hidden": true
    },
    "tags": []
   },
   "outputs": [],
   "source": [
    "cols_to_use = ['Suburb', 'Rooms', 'Type', 'Method', 'SellerG', 'Regionname', 'Propertycount',\n",
    "               'Distance','Bedroom2', 'Bathroom', 'Car', 'Landsize', 'BuildingArea', 'Price']\n",
    "dataset = dataset[cols_to_use]"
   ]
  },
  {
   "cell_type": "code",
   "execution_count": null,
   "metadata": {
    "id": "nDxFk0008cUc",
    "outputId": "ff883cec-8eb4-4ad8-eeb4-241edf050575",
    "tags": []
   },
   "outputs": [
    {
     "data": {
      "text/html": [
       "<div>\n",
       "<style scoped>\n",
       "    .dataframe tbody tr th:only-of-type {\n",
       "        vertical-align: middle;\n",
       "    }\n",
       "\n",
       "    .dataframe tbody tr th {\n",
       "        vertical-align: top;\n",
       "    }\n",
       "\n",
       "    .dataframe thead th {\n",
       "        text-align: right;\n",
       "    }\n",
       "</style>\n",
       "<table border=\"1\" class=\"dataframe\">\n",
       "  <thead>\n",
       "    <tr style=\"text-align: right;\">\n",
       "      <th></th>\n",
       "      <th>Suburb</th>\n",
       "      <th>Rooms</th>\n",
       "      <th>Type</th>\n",
       "      <th>Method</th>\n",
       "      <th>SellerG</th>\n",
       "      <th>Regionname</th>\n",
       "      <th>Propertycount</th>\n",
       "      <th>Distance</th>\n",
       "      <th>Bedroom2</th>\n",
       "      <th>Bathroom</th>\n",
       "      <th>Car</th>\n",
       "      <th>Landsize</th>\n",
       "      <th>BuildingArea</th>\n",
       "      <th>Price</th>\n",
       "    </tr>\n",
       "  </thead>\n",
       "  <tbody>\n",
       "    <tr>\n",
       "      <th>0</th>\n",
       "      <td>Abbotsford</td>\n",
       "      <td>2</td>\n",
       "      <td>h</td>\n",
       "      <td>SS</td>\n",
       "      <td>Jellis</td>\n",
       "      <td>Northern Metropolitan</td>\n",
       "      <td>4019.0</td>\n",
       "      <td>2.5</td>\n",
       "      <td>2.0</td>\n",
       "      <td>1.0</td>\n",
       "      <td>1.0</td>\n",
       "      <td>126.0</td>\n",
       "      <td>NaN</td>\n",
       "      <td>NaN</td>\n",
       "    </tr>\n",
       "    <tr>\n",
       "      <th>1</th>\n",
       "      <td>Abbotsford</td>\n",
       "      <td>2</td>\n",
       "      <td>h</td>\n",
       "      <td>S</td>\n",
       "      <td>Biggin</td>\n",
       "      <td>Northern Metropolitan</td>\n",
       "      <td>4019.0</td>\n",
       "      <td>2.5</td>\n",
       "      <td>2.0</td>\n",
       "      <td>1.0</td>\n",
       "      <td>1.0</td>\n",
       "      <td>202.0</td>\n",
       "      <td>NaN</td>\n",
       "      <td>1480000.0</td>\n",
       "    </tr>\n",
       "    <tr>\n",
       "      <th>2</th>\n",
       "      <td>Abbotsford</td>\n",
       "      <td>2</td>\n",
       "      <td>h</td>\n",
       "      <td>S</td>\n",
       "      <td>Biggin</td>\n",
       "      <td>Northern Metropolitan</td>\n",
       "      <td>4019.0</td>\n",
       "      <td>2.5</td>\n",
       "      <td>2.0</td>\n",
       "      <td>1.0</td>\n",
       "      <td>0.0</td>\n",
       "      <td>156.0</td>\n",
       "      <td>79.0</td>\n",
       "      <td>1035000.0</td>\n",
       "    </tr>\n",
       "    <tr>\n",
       "      <th>3</th>\n",
       "      <td>Abbotsford</td>\n",
       "      <td>3</td>\n",
       "      <td>u</td>\n",
       "      <td>VB</td>\n",
       "      <td>Rounds</td>\n",
       "      <td>Northern Metropolitan</td>\n",
       "      <td>4019.0</td>\n",
       "      <td>2.5</td>\n",
       "      <td>3.0</td>\n",
       "      <td>2.0</td>\n",
       "      <td>1.0</td>\n",
       "      <td>0.0</td>\n",
       "      <td>NaN</td>\n",
       "      <td>NaN</td>\n",
       "    </tr>\n",
       "    <tr>\n",
       "      <th>4</th>\n",
       "      <td>Abbotsford</td>\n",
       "      <td>3</td>\n",
       "      <td>h</td>\n",
       "      <td>SP</td>\n",
       "      <td>Biggin</td>\n",
       "      <td>Northern Metropolitan</td>\n",
       "      <td>4019.0</td>\n",
       "      <td>2.5</td>\n",
       "      <td>3.0</td>\n",
       "      <td>2.0</td>\n",
       "      <td>0.0</td>\n",
       "      <td>134.0</td>\n",
       "      <td>150.0</td>\n",
       "      <td>1465000.0</td>\n",
       "    </tr>\n",
       "  </tbody>\n",
       "</table>\n",
       "</div>"
      ],
      "text/plain": [
       "       Suburb  Rooms Type Method SellerG             Regionname  \\\n",
       "0  Abbotsford      2    h     SS  Jellis  Northern Metropolitan   \n",
       "1  Abbotsford      2    h      S  Biggin  Northern Metropolitan   \n",
       "2  Abbotsford      2    h      S  Biggin  Northern Metropolitan   \n",
       "3  Abbotsford      3    u     VB  Rounds  Northern Metropolitan   \n",
       "4  Abbotsford      3    h     SP  Biggin  Northern Metropolitan   \n",
       "\n",
       "   Propertycount  Distance  Bedroom2  Bathroom  Car  Landsize  BuildingArea  \\\n",
       "0         4019.0       2.5       2.0       1.0  1.0     126.0           NaN   \n",
       "1         4019.0       2.5       2.0       1.0  1.0     202.0           NaN   \n",
       "2         4019.0       2.5       2.0       1.0  0.0     156.0          79.0   \n",
       "3         4019.0       2.5       3.0       2.0  1.0       0.0           NaN   \n",
       "4         4019.0       2.5       3.0       2.0  0.0     134.0         150.0   \n",
       "\n",
       "       Price  \n",
       "0        NaN  \n",
       "1  1480000.0  \n",
       "2  1035000.0  \n",
       "3        NaN  \n",
       "4  1465000.0  "
      ]
     },
     "execution_count": 96,
     "metadata": {},
     "output_type": "execute_result"
    }
   ],
   "source": [
    "dataset.head()"
   ]
  },
  {
   "cell_type": "code",
   "execution_count": null,
   "metadata": {
    "id": "1XPLGSGg8cUc",
    "tags": []
   },
   "outputs": [],
   "source": [
    "cols_to_use = ['Suburb', 'Rooms', 'Type', 'Method', 'SellerG', 'Regionname',\n",
    "               'Propertycount', 'Distance','Bedroom2', 'Bathroom', 'Car',\n",
    "               'Landsize', 'BuildingArea', 'Price']\n",
    "dataset = dataset[cols_to_use]"
   ]
  },
  {
   "cell_type": "markdown",
   "metadata": {
    "id": "6wQnP5m58cUc"
   },
   "source": [
    "# missing values"
   ]
  },
  {
   "cell_type": "code",
   "execution_count": null,
   "metadata": {
    "id": "F9mH4M4s8cUd",
    "tags": []
   },
   "outputs": [],
   "source": [
    "cols_to_fill_zero = ['Propertycount', 'Distance', 'Bedroom2', 'Bathroom', 'Car']\n",
    "dataset[cols_to_fill_zero] = dataset[cols_to_fill_zero].fillna(0)\n",
    "\n",
    "dataset['Landsize'] = dataset['Landsize'].fillna(dataset.Landsize.mean())\n",
    "dataset['BuildingArea'] = dataset['BuildingArea'].fillna(dataset.BuildingArea.mean())"
   ]
  },
  {
   "cell_type": "code",
   "execution_count": null,
   "metadata": {
    "id": "vdGwC5zw8cUd",
    "tags": []
   },
   "outputs": [],
   "source": [
    "dataset.dropna(inplace=True)"
   ]
  },
  {
   "cell_type": "code",
   "execution_count": null,
   "metadata": {
    "id": "SeajwE4U8cUd",
    "outputId": "c8445109-f6ae-4ff4-9811-a0fc0ecb90ad",
    "tags": []
   },
   "outputs": [
    {
     "data": {
      "text/plain": [
       "(27244, 14)"
      ]
     },
     "execution_count": 100,
     "metadata": {},
     "output_type": "execute_result"
    }
   ],
   "source": [
    "dataset.shape"
   ]
  },
  {
   "cell_type": "markdown",
   "metadata": {
    "id": "Sxr7SORp8cUe"
   },
   "source": [
    "# outlier handling"
   ]
  },
  {
   "cell_type": "code",
   "execution_count": null,
   "metadata": {
    "id": "_vTCjeHA8cUe",
    "outputId": "947cf84c-1a36-4c36-a99f-ea403366a3f5",
    "tags": []
   },
   "outputs": [
    {
     "data": {
      "application/javascript": [
       "\n",
       "        if (window._pyforest_update_imports_cell) { window._pyforest_update_imports_cell('import matplotlib.pyplot as plt'); }\n",
       "    "
      ],
      "text/plain": [
       "<IPython.core.display.Javascript object>"
      ]
     },
     "metadata": {},
     "output_type": "display_data"
    },
    {
     "data": {
      "text/plain": [
       "<AxesSubplot:xlabel='Rooms'>"
      ]
     },
     "execution_count": 101,
     "metadata": {},
     "output_type": "execute_result"
    },
    {
     "data": {
      "image/png": "[encoded data removed]",
      "text/plain": [
       "<Figure size 576x288 with 1 Axes>"
      ]
     },
     "metadata": {
      "needs_background": "light"
     },
     "output_type": "display_data"
    }
   ],
   "source": [
    "import seaborn as sns\n",
    "plt.figure(figsize =(8,4))\n",
    "sns.boxplot(x = 'Rooms', data=dataset, orient='h')"
   ]
  },
  {
   "cell_type": "code",
   "execution_count": null,
   "metadata": {
    "id": "wpRJ1Fo_8cUe",
    "outputId": "6486fa32-fe5a-4fd5-f198-03197d22eecb",
    "tags": []
   },
   "outputs": [
    {
     "name": "stdout",
     "output_type": "stream",
     "text": [
      "1st quartile = 2.0 \n",
      "3rd quartile range = 4.0 \n",
      "inter quartile range = 2.0 \n"
     ]
    }
   ],
   "source": [
    "from scipy import stats\n",
    "\n",
    "q1 = dataset['Rooms'].quantile(q=0.25)\n",
    "q3 = dataset['Rooms'].quantile(q=0.75)\n",
    "IQR = q3-q1\n",
    "print('1st quartile = {} \\n3rd quartile range = {} \\ninter quartile range = {} '\n",
    "      .format(q1,q3,stats.iqr(dataset['Rooms'])))"
   ]
  },
  {
   "cell_type": "code",
   "execution_count": null,
   "metadata": {
    "id": "8dgG-d_H8cUf",
    "outputId": "ed70c23b-2027-4480-8a2a-c8bb982284c8",
    "tags": []
   },
   "outputs": [
    {
     "name": "stdout",
     "output_type": "stream",
     "text": [
      "lower outlier =  -1.0\n",
      "uppper outlier =  7.0\n"
     ]
    }
   ],
   "source": [
    "lower_outlier = q1-1.5*(IQR)\n",
    "upper_outlier = q3+1.5*(IQR)\n",
    "\n",
    "print('lower outlier = ',lower_outlier)\n",
    "print('uppper outlier = ',upper_outlier)"
   ]
  },
  {
   "cell_type": "code",
   "execution_count": null,
   "metadata": {
    "id": "7GPEMObh8cUf",
    "outputId": "410b6252-8836-4af9-b627-ac0fd3bba73e",
    "tags": []
   },
   "outputs": [
    {
     "name": "stdout",
     "output_type": "stream",
     "text": [
      "Number of upper outlier =   23\n",
      "Number of lower outlier =   0\n"
     ]
    }
   ],
   "source": [
    "print('Number of upper outlier =  ',\n",
    "      dataset[dataset['Rooms']>upper_outlier]['Rooms'].count())\n",
    "print('Number of lower outlier =  ',\n",
    "      dataset[dataset['Rooms']<lower_outlier]['Rooms'].count())"
   ]
  },
  {
   "cell_type": "code",
   "execution_count": null,
   "metadata": {
    "id": "XI9OfVzd8cUf",
    "tags": []
   },
   "outputs": [],
   "source": [
    "dataset.loc[(dataset['Rooms']<lower_outlier) | (dataset['Rooms']>upper_outlier),\n",
    "            ['Rooms']] = dataset['Rooms'].median()"
   ]
  },
  {
   "cell_type": "code",
   "execution_count": null,
   "metadata": {
    "id": "NZ6nq8Ia8cUf",
    "outputId": "b24efd34-eea3-425a-c4ce-918d9713924e",
    "tags": []
   },
   "outputs": [
    {
     "name": "stdout",
     "output_type": "stream",
     "text": [
      "Number of upper outlier =   0\n",
      "Number of lower outlier =   0\n"
     ]
    }
   ],
   "source": [
    "print('Number of upper outlier =  ',dataset[dataset['Rooms']>upper_outlier]['Rooms'].count())\n",
    "print('Number of lower outlier =  ',dataset[dataset['Rooms']<lower_outlier]['Rooms'].count())"
   ]
  },
  {
   "cell_type": "code",
   "execution_count": null,
   "metadata": {
    "id": "_HxqcSBQ8cUf",
    "outputId": "d4b45176-e36c-4487-c162-90f41bd2c402",
    "tags": []
   },
   "outputs": [
    {
     "data": {
      "application/javascript": [
       "\n",
       "        if (window._pyforest_update_imports_cell) { window._pyforest_update_imports_cell('import matplotlib.pyplot as plt'); }\n",
       "    "
      ],
      "text/plain": [
       "<IPython.core.display.Javascript object>"
      ]
     },
     "metadata": {},
     "output_type": "display_data"
    },
    {
     "data": {
      "text/plain": [
       "<AxesSubplot:xlabel='Rooms'>"
      ]
     },
     "execution_count": 107,
     "metadata": {},
     "output_type": "execute_result"
    },
    {
     "data": {
      "image/png": "[encoded data removed]",
      "text/plain": [
       "<Figure size 576x288 with 1 Axes>"
      ]
     },
     "metadata": {
      "needs_background": "light"
     },
     "output_type": "display_data"
    }
   ],
   "source": [
    "import seaborn as sns\n",
    "plt.figure(figsize =(8,4))\n",
    "sns.boxplot(x = 'Rooms', data=dataset, orient='h')"
   ]
  },
  {
   "cell_type": "code",
   "execution_count": null,
   "metadata": {
    "id": "uCf_Wi888cUg",
    "tags": []
   },
   "outputs": [],
   "source": [
    "for cols in dataset.columns[:-1]:\n",
    "    if dataset[cols].dtype == object:\n",
    "        continue\n",
    "    else:\n",
    "        Q1 = dataset[cols].quantile(q=0.25)\n",
    "        Q3 = dataset[cols].quantile(q=0.75)\n",
    "        iqr = Q3 - Q1\n",
    "\n",
    "        low = Q1 - 1.5*(Q3-Q1)\n",
    "        high = Q3 + 1.5*(Q3-Q1)\n",
    "        dataset.loc[(dataset[cols]<low) | (dataset[cols]>high),cols] = dataset[cols].median()"
   ]
  },
  {
   "cell_type": "code",
   "execution_count": null,
   "metadata": {
    "id": "0x2i3LjA8cUg",
    "outputId": "f3116dac-a3d8-4d09-f96a-a8b43e457e34",
    "tags": []
   },
   "outputs": [
    {
     "data": {
      "application/javascript": [
       "\n",
       "        if (window._pyforest_update_imports_cell) { window._pyforest_update_imports_cell('import matplotlib.pyplot as plt'); }\n",
       "    "
      ],
      "text/plain": [
       "<IPython.core.display.Javascript object>"
      ]
     },
     "metadata": {},
     "output_type": "display_data"
    },
    {
     "data": {
      "text/plain": [
       "<AxesSubplot:xlabel='BuildingArea'>"
      ]
     },
     "execution_count": 109,
     "metadata": {},
     "output_type": "execute_result"
    },
    {
     "data": {
      "image/png": "[encoded data removed]",
      "text/plain": [
       "<Figure size 576x288 with 1 Axes>"
      ]
     },
     "metadata": {
      "needs_background": "light"
     },
     "output_type": "display_data"
    }
   ],
   "source": [
    "plt.figure(figsize =(8,4))\n",
    "sns.boxplot(x = 'BuildingArea', data=dataset, orient='h')"
   ]
  },
  {
   "cell_type": "code",
   "execution_count": null,
   "metadata": {
    "id": "thzDlonj8cUg",
    "outputId": "94205644-804c-4a14-f97e-226e09759ee9"
   },
   "outputs": [
    {
     "name": "stderr",
     "output_type": "stream",
     "text": [
      "<ipython-input-110-c187c74d1e71>:1: FutureWarning: The default value of numeric_only in DataFrame.corr is deprecated. In a future version, it will default to False. Select only valid columns or specify the value of numeric_only to silence this warning.\n",
      "  dataset.corr()\n"
     ]
    },
    {
     "data": {
      "text/html": [
       "<div>\n",
       "<style scoped>\n",
       "    .dataframe tbody tr th:only-of-type {\n",
       "        vertical-align: middle;\n",
       "    }\n",
       "\n",
       "    .dataframe tbody tr th {\n",
       "        vertical-align: top;\n",
       "    }\n",
       "\n",
       "    .dataframe thead th {\n",
       "        text-align: right;\n",
       "    }\n",
       "</style>\n",
       "<table border=\"1\" class=\"dataframe\">\n",
       "  <thead>\n",
       "    <tr style=\"text-align: right;\">\n",
       "      <th></th>\n",
       "      <th>Rooms</th>\n",
       "      <th>Propertycount</th>\n",
       "      <th>Distance</th>\n",
       "      <th>Bedroom2</th>\n",
       "      <th>Bathroom</th>\n",
       "      <th>Car</th>\n",
       "      <th>Landsize</th>\n",
       "      <th>BuildingArea</th>\n",
       "      <th>Price</th>\n",
       "    </tr>\n",
       "  </thead>\n",
       "  <tbody>\n",
       "    <tr>\n",
       "      <th>Rooms</th>\n",
       "      <td>1.000000</td>\n",
       "      <td>-0.069484</td>\n",
       "      <td>0.311482</td>\n",
       "      <td>0.554088</td>\n",
       "      <td>0.411772</td>\n",
       "      <td>0.348026</td>\n",
       "      <td>0.362793</td>\n",
       "      <td>-0.039481</td>\n",
       "      <td>0.464536</td>\n",
       "    </tr>\n",
       "    <tr>\n",
       "      <th>Propertycount</th>\n",
       "      <td>-0.069484</td>\n",
       "      <td>1.000000</td>\n",
       "      <td>-0.078625</td>\n",
       "      <td>-0.028384</td>\n",
       "      <td>-0.013974</td>\n",
       "      <td>-0.027420</td>\n",
       "      <td>-0.046722</td>\n",
       "      <td>0.007199</td>\n",
       "      <td>-0.010364</td>\n",
       "    </tr>\n",
       "    <tr>\n",
       "      <th>Distance</th>\n",
       "      <td>0.311482</td>\n",
       "      <td>-0.078625</td>\n",
       "      <td>1.000000</td>\n",
       "      <td>0.156576</td>\n",
       "      <td>0.100343</td>\n",
       "      <td>0.191976</td>\n",
       "      <td>0.344302</td>\n",
       "      <td>-0.025469</td>\n",
       "      <td>-0.167219</td>\n",
       "    </tr>\n",
       "    <tr>\n",
       "      <th>Bedroom2</th>\n",
       "      <td>0.554088</td>\n",
       "      <td>-0.028384</td>\n",
       "      <td>0.156576</td>\n",
       "      <td>1.000000</td>\n",
       "      <td>0.838180</td>\n",
       "      <td>0.717833</td>\n",
       "      <td>0.021490</td>\n",
       "      <td>-0.065623</td>\n",
       "      <td>0.299756</td>\n",
       "    </tr>\n",
       "    <tr>\n",
       "      <th>Bathroom</th>\n",
       "      <td>0.411772</td>\n",
       "      <td>-0.013974</td>\n",
       "      <td>0.100343</td>\n",
       "      <td>0.838180</td>\n",
       "      <td>1.000000</td>\n",
       "      <td>0.645191</td>\n",
       "      <td>-0.080908</td>\n",
       "      <td>-0.066235</td>\n",
       "      <td>0.275152</td>\n",
       "    </tr>\n",
       "    <tr>\n",
       "      <th>Car</th>\n",
       "      <td>0.348026</td>\n",
       "      <td>-0.027420</td>\n",
       "      <td>0.191976</td>\n",
       "      <td>0.717833</td>\n",
       "      <td>0.645191</td>\n",
       "      <td>1.000000</td>\n",
       "      <td>0.099695</td>\n",
       "      <td>-0.048828</td>\n",
       "      <td>0.202983</td>\n",
       "    </tr>\n",
       "    <tr>\n",
       "      <th>Landsize</th>\n",
       "      <td>0.362793</td>\n",
       "      <td>-0.046722</td>\n",
       "      <td>0.344302</td>\n",
       "      <td>0.021490</td>\n",
       "      <td>-0.080908</td>\n",
       "      <td>0.099695</td>\n",
       "      <td>1.000000</td>\n",
       "      <td>-0.004623</td>\n",
       "      <td>0.182581</td>\n",
       "    </tr>\n",
       "    <tr>\n",
       "      <th>BuildingArea</th>\n",
       "      <td>-0.039481</td>\n",
       "      <td>0.007199</td>\n",
       "      <td>-0.025469</td>\n",
       "      <td>-0.065623</td>\n",
       "      <td>-0.066235</td>\n",
       "      <td>-0.048828</td>\n",
       "      <td>-0.004623</td>\n",
       "      <td>1.000000</td>\n",
       "      <td>0.001780</td>\n",
       "    </tr>\n",
       "    <tr>\n",
       "      <th>Price</th>\n",
       "      <td>0.464536</td>\n",
       "      <td>-0.010364</td>\n",
       "      <td>-0.167219</td>\n",
       "      <td>0.299756</td>\n",
       "      <td>0.275152</td>\n",
       "      <td>0.202983</td>\n",
       "      <td>0.182581</td>\n",
       "      <td>0.001780</td>\n",
       "      <td>1.000000</td>\n",
       "    </tr>\n",
       "  </tbody>\n",
       "</table>\n",
       "</div>"
      ],
      "text/plain": [
       "                  Rooms  Propertycount  Distance  Bedroom2  Bathroom  \\\n",
       "Rooms          1.000000      -0.069484  0.311482  0.554088  0.411772   \n",
       "Propertycount -0.069484       1.000000 -0.078625 -0.028384 -0.013974   \n",
       "Distance       0.311482      -0.078625  1.000000  0.156576  0.100343   \n",
       "Bedroom2       0.554088      -0.028384  0.156576  1.000000  0.838180   \n",
       "Bathroom       0.411772      -0.013974  0.100343  0.838180  1.000000   \n",
       "Car            0.348026      -0.027420  0.191976  0.717833  0.645191   \n",
       "Landsize       0.362793      -0.046722  0.344302  0.021490 -0.080908   \n",
       "BuildingArea  -0.039481       0.007199 -0.025469 -0.065623 -0.066235   \n",
       "Price          0.464536      -0.010364 -0.167219  0.299756  0.275152   \n",
       "\n",
       "                    Car  Landsize  BuildingArea     Price  \n",
       "Rooms          0.348026  0.362793     -0.039481  0.464536  \n",
       "Propertycount -0.027420 -0.046722      0.007199 -0.010364  \n",
       "Distance       0.191976  0.344302     -0.025469 -0.167219  \n",
       "Bedroom2       0.717833  0.021490     -0.065623  0.299756  \n",
       "Bathroom       0.645191 -0.080908     -0.066235  0.275152  \n",
       "Car            1.000000  0.099695     -0.048828  0.202983  \n",
       "Landsize       0.099695  1.000000     -0.004623  0.182581  \n",
       "BuildingArea  -0.048828 -0.004623      1.000000  0.001780  \n",
       "Price          0.202983  0.182581      0.001780  1.000000  "
      ]
     },
     "execution_count": 110,
     "metadata": {},
     "output_type": "execute_result"
    }
   ],
   "source": [
    "dataset.corr()"
   ]
  },
  {
   "cell_type": "code",
   "execution_count": null,
   "metadata": {
    "id": "mVyOWbbY8cUg",
    "outputId": "25c355e5-10a2-4438-e5ca-7541c878ef80",
    "tags": []
   },
   "outputs": [
    {
     "name": "stdout",
     "output_type": "stream",
     "text": [
      "(27244, 14)\n",
      "(27244, 7)\n"
     ]
    },
    {
     "data": {
      "text/html": [
       "<div>\n",
       "<style scoped>\n",
       "    .dataframe tbody tr th:only-of-type {\n",
       "        vertical-align: middle;\n",
       "    }\n",
       "\n",
       "    .dataframe tbody tr th {\n",
       "        vertical-align: top;\n",
       "    }\n",
       "\n",
       "    .dataframe thead th {\n",
       "        text-align: right;\n",
       "    }\n",
       "</style>\n",
       "<table border=\"1\" class=\"dataframe\">\n",
       "  <thead>\n",
       "    <tr style=\"text-align: right;\">\n",
       "      <th></th>\n",
       "      <th>Rooms</th>\n",
       "      <th>Propertycount</th>\n",
       "      <th>Distance</th>\n",
       "      <th>Bedroom2</th>\n",
       "      <th>Bathroom</th>\n",
       "      <th>Landsize</th>\n",
       "      <th>BuildingArea</th>\n",
       "    </tr>\n",
       "  </thead>\n",
       "  <tbody>\n",
       "    <tr>\n",
       "      <th>1</th>\n",
       "      <td>2</td>\n",
       "      <td>4019.0</td>\n",
       "      <td>2.5</td>\n",
       "      <td>2.0</td>\n",
       "      <td>1.0</td>\n",
       "      <td>202.0</td>\n",
       "      <td>160.2564</td>\n",
       "    </tr>\n",
       "    <tr>\n",
       "      <th>2</th>\n",
       "      <td>2</td>\n",
       "      <td>4019.0</td>\n",
       "      <td>2.5</td>\n",
       "      <td>2.0</td>\n",
       "      <td>1.0</td>\n",
       "      <td>156.0</td>\n",
       "      <td>160.2564</td>\n",
       "    </tr>\n",
       "    <tr>\n",
       "      <th>4</th>\n",
       "      <td>3</td>\n",
       "      <td>4019.0</td>\n",
       "      <td>2.5</td>\n",
       "      <td>3.0</td>\n",
       "      <td>2.0</td>\n",
       "      <td>134.0</td>\n",
       "      <td>150.0000</td>\n",
       "    </tr>\n",
       "    <tr>\n",
       "      <th>5</th>\n",
       "      <td>3</td>\n",
       "      <td>4019.0</td>\n",
       "      <td>2.5</td>\n",
       "      <td>3.0</td>\n",
       "      <td>2.0</td>\n",
       "      <td>94.0</td>\n",
       "      <td>160.2564</td>\n",
       "    </tr>\n",
       "    <tr>\n",
       "      <th>6</th>\n",
       "      <td>4</td>\n",
       "      <td>4019.0</td>\n",
       "      <td>2.5</td>\n",
       "      <td>3.0</td>\n",
       "      <td>1.0</td>\n",
       "      <td>120.0</td>\n",
       "      <td>160.2564</td>\n",
       "    </tr>\n",
       "  </tbody>\n",
       "</table>\n",
       "</div>"
      ],
      "text/plain": [
       "   Rooms  Propertycount  Distance  Bedroom2  Bathroom  Landsize  BuildingArea\n",
       "1      2         4019.0       2.5       2.0       1.0     202.0      160.2564\n",
       "2      2         4019.0       2.5       2.0       1.0     156.0      160.2564\n",
       "4      3         4019.0       2.5       3.0       2.0     134.0      150.0000\n",
       "5      3         4019.0       2.5       3.0       2.0      94.0      160.2564\n",
       "6      4         4019.0       2.5       3.0       1.0     120.0      160.2564"
      ]
     },
     "execution_count": 111,
     "metadata": {},
     "output_type": "execute_result"
    }
   ],
   "source": [
    "print(dataset.shape)\n",
    "dataset1_num_col = dataset.drop(['Car','Suburb', 'Type', 'Method',\n",
    "                                 'SellerG',\n",
    "                                 'Regionname','Price'],axis = 1)\n",
    "print(dataset1_num_col.shape)\n",
    "\n",
    "dataset1_num_col.head()"
   ]
  },
  {
   "cell_type": "code",
   "execution_count": null,
   "metadata": {
    "id": "jAlPqvj08cUg",
    "outputId": "01377c67-215d-47d1-f54f-200969bd0897",
    "tags": []
   },
   "outputs": [
    {
     "name": "stdout",
     "output_type": "stream",
     "text": [
      "(27244, 713)\n"
     ]
    }
   ],
   "source": [
    "dataset_cat = pd.get_dummies(dataset, drop_first=True)\n",
    "print(dataset_cat.shape)"
   ]
  },
  {
   "cell_type": "code",
   "execution_count": null,
   "metadata": {
    "id": "GckIShTo8cUg",
    "outputId": "542386a0-65cd-4e85-c6f4-344884429725",
    "tags": []
   },
   "outputs": [
    {
     "data": {
      "text/plain": [
       "(27244, 720)"
      ]
     },
     "execution_count": 113,
     "metadata": {},
     "output_type": "execute_result"
    }
   ],
   "source": [
    "dataset= pd.concat([dataset1_num_col,dataset_cat],axis = 1)\n",
    "dataset.shape"
   ]
  },
  {
   "cell_type": "markdown",
   "metadata": {
    "id": "MyiROcKo8cUh"
   },
   "source": [
    "# Data Standardization"
   ]
  },
  {
   "cell_type": "code",
   "execution_count": null,
   "metadata": {
    "id": "7MWfjT2I8cUh",
    "outputId": "362905c0-acf7-472c-ebd8-57e316b17284"
   },
   "outputs": [
    {
     "name": "stdout",
     "output_type": "stream",
     "text": [
      "(27244, 719)\n",
      "(27244,)\n"
     ]
    }
   ],
   "source": [
    "X = dataset.drop('Price',axis=1)\n",
    "y= dataset['Price']\n",
    "print(X.shape)\n",
    "print(y.shape)"
   ]
  },
  {
   "cell_type": "code",
   "execution_count": null,
   "metadata": {
    "id": "0BzDqZm18cUh"
   },
   "outputs": [],
   "source": [
    "from sklearn.preprocessing import StandardScaler\n",
    "# define min max scaler\n",
    "scaler = StandardScaler()\n",
    "# transform data\n",
    "scaled = scaler.fit_transform(X)"
   ]
  },
  {
   "cell_type": "code",
   "execution_count": null,
   "metadata": {
    "id": "lLTwdCHi8cUh"
   },
   "outputs": [],
   "source": [
    "from sklearn.model_selection import train_test_split\n",
    "X_train,X_test,y_train,y_test = train_test_split(scaled,y,test_size=0.2,random_state=40)"
   ]
  },
  {
   "cell_type": "code",
   "execution_count": null,
   "metadata": {
    "id": "Y9v7HGoT8cUh"
   },
   "outputs": [],
   "source": [
    "from sklearn.linear_model import LinearRegression\n",
    "reg = LinearRegression().fit(X_train, y_train)\n",
    "Reg_predict=reg.predict(X_test)"
   ]
  },
  {
   "cell_type": "code",
   "execution_count": null,
   "metadata": {
    "id": "tF-9ctT58cUh",
    "outputId": "7a4c3994-6cfa-40f0-b8df-e9da0425e3ae"
   },
   "outputs": [
    {
     "name": "stdout",
     "output_type": "stream",
     "text": [
      "R score -8.516028849736276e+26\n",
      "MSE =  3.52719747505852e+38\n"
     ]
    }
   ],
   "source": [
    "from sklearn import metrics\n",
    "print(\"R score\",metrics.r2_score(y_test,Reg_predict))\n",
    "print(\"MSE = \", metrics.mean_squared_error(y_test,Reg_predict))"
   ]
  },
  {
   "cell_type": "raw",
   "metadata": {
    "id": "EmUkK5cC8cUh"
   },
   "source": [
    "#Printing the model coefficients\n",
    "print('Intercept: ', reg.intercept_)\n",
    "print('Coefficient:', reg.coef_)"
   ]
  }
 ],
 "metadata": {
  "colab": {
   "provenance": []
  },
  "kernelspec": {
   "display_name": "Python 3 (ipykernel)",
   "language": "python",
   "name": "python3"
  },
  "language_info": {
   "codemirror_mode": {
    "name": "ipython",
    "version": 3
   },
   "file_extension": ".py",
   "mimetype": "text/x-python",
   "name": "python",
   "nbconvert_exporter": "python",
   "pygments_lexer": "ipython3",
   "version": "3.11.5"
  }
 },
 "nbformat": 4,
 "nbformat_minor": 4
}
